{
 "cells": [
  {
   "cell_type": "code",
   "execution_count": 1,
   "metadata": {},
   "outputs": [],
   "source": [
    "import matplotlib.pyplot as plt\n",
    "import numpy as np\n",
    "import csv\n",
    "import pandas as pd\n",
    "from sklearn.model_selection import train_test_split\n",
    "from sklearn.neural_network import MLPRegressor\n",
    "from sklearn.datasets import make_regression\n",
    "from sklearn.metrics import r2_score"
   ]
  },
  {
   "cell_type": "code",
   "execution_count": 2,
   "metadata": {},
   "outputs": [],
   "source": [
    "df = pd.read_csv(\"Metro_zhvi_uc_sfrcondo_tier_0.33_0.67_sm_sa_month_11.29.2020_.csv\") "
   ]
  },
  {
   "cell_type": "code",
   "execution_count": 3,
   "metadata": {},
   "outputs": [],
   "source": [
    "for i in range(101,892):\n",
    "    df=df.drop([i])"
   ]
  },
  {
   "cell_type": "code",
   "execution_count": 4,
   "metadata": {},
   "outputs": [
    {
     "name": "stdout",
     "output_type": "stream",
     "text": [
      "          RegionName RegionType StateName  1/31/2000  2/29/2000  3/31/2000  \\\n",
      "0       New York, NY        msa        NY   223829.0   225167.0   226370.0   \n",
      "1    Los Angeles, CA        msa        CA   229755.0   230555.0   231780.0   \n",
      "2        Chicago, IL        msa        IL   168751.0   169149.0   169664.0   \n",
      "3         Dallas, TX        msa        TX   129057.0   129160.0   129246.0   \n",
      "4        Houston, TX        msa        TX   126120.0   126198.0   126079.0   \n",
      "..               ...        ...       ...        ...        ...        ...   \n",
      "96    Harrisburg, PA        msa        PA   116214.0   116612.0   116921.0   \n",
      "97       Spokane, WA        msa        WA   128480.0   128462.0   128477.0   \n",
      "98   Chattanooga, TN        msa        TN   105549.0   105845.0   106018.0   \n",
      "99      Scranton, PA        msa        PA    80281.0    80798.0    81008.0   \n",
      "100      Modesto, CA        msa        CA   147064.0   147417.0   148011.0   \n",
      "\n",
      "     4/30/2000  5/31/2000  6/30/2000  7/31/2000  ...  1/31/2022  2/28/2022  \\\n",
      "0     228739.0   230944.0   233292.0   235759.0  ...   578616.0   583239.0   \n",
      "1     234110.0   236608.0   238967.0   241382.0  ...   873128.0   885390.0   \n",
      "2     170696.0   171789.0   172872.0   174070.0  ...   291994.0   294542.0   \n",
      "3     129456.0   129676.0   129859.0   130056.0  ...   348182.0   356594.0   \n",
      "4     126198.0   126205.0   126407.0   126536.0  ...   283863.0   288169.0   \n",
      "..         ...        ...        ...        ...  ...        ...        ...   \n",
      "96    117533.0   117830.0   118026.0   118133.0  ...   242647.0   246010.0   \n",
      "97    128440.0   127937.0   127408.0   126923.0  ...   413208.0   422164.0   \n",
      "98    106484.0   106902.0   107358.0   107695.0  ...   247852.0   253338.0   \n",
      "99     81304.0    81224.0    81340.0    81478.0  ...   163968.0   165588.0   \n",
      "100   147745.0   147578.0   147333.0   148564.0  ...   438738.0   446327.0   \n",
      "\n",
      "     3/31/2022  4/30/2022  5/31/2022  6/30/2022  7/31/2022  8/31/2022  \\\n",
      "0     589646.0     596752     604240     610227     614532     616809   \n",
      "1     902775.0     921916     938423     939761     936625     922542   \n",
      "2     297812.0     301254     305188     308150     309985     310305   \n",
      "3     364599.0     373983     382587     390056     392235     391300   \n",
      "4     293517.0     299510     305080     309261     311856     313097   \n",
      "..         ...        ...        ...        ...        ...        ...   \n",
      "96    248804.0     251307     253346     255599     257377     259250   \n",
      "97    430812.0     439494     443729     447082     445532     442036   \n",
      "98    258913.0     264513     269315     273780     276727     279014   \n",
      "99    167896.0     170330     172239     174272     176125     178296   \n",
      "100   454165.0     462861     465911     467884     468509     466470   \n",
      "\n",
      "     9/30/2022  10/31/2022  \n",
      "0     617791.0      618270  \n",
      "1     912931.0      903359  \n",
      "2     310604.0      311225  \n",
      "3     389607.0      389737  \n",
      "4     313460.0      314051  \n",
      "..         ...         ...  \n",
      "96    260984.0      263391  \n",
      "97    438247.0      434931  \n",
      "98    281072.0      282414  \n",
      "99    179761.0      180888  \n",
      "100   462632.0      455118  \n",
      "\n",
      "[101 rows x 277 columns]\n"
     ]
    }
   ],
   "source": [
    "print(df)"
   ]
  },
  {
   "cell_type": "code",
   "execution_count": 5,
   "metadata": {},
   "outputs": [],
   "source": [
    "data=(df.loc[[1]])\n",
    "\n",
    "past4y=[]\n",
    "next4y=[]\n",
    "\n",
    "data=data.values.tolist()\n",
    "data=data[0]"
   ]
  },
  {
   "cell_type": "code",
   "execution_count": 6,
   "metadata": {},
   "outputs": [
    {
     "name": "stdout",
     "output_type": "stream",
     "text": [
      "[229755.0, 230555.0, 231780.0, 234110.0, 236608.0, 238967.0, 241382.0, 243917.0, 246332.0, 248540.0, 250584.0, 252737.0, 254392.0, 256184.0, 258094.0, 260756.0, 263367.0, 265775.0, 268237.0, 270805.0, 273467.0, 276107.0, 278407.0, 280826.0, 282821.0, 285172.0, 287972.0, 291534.0, 295586.0, 299718.0, 304920.0, 310338.0, 315853.0, 320779.0, 325669.0, 330502.0, 334570.0, 338328.0, 342485.0, 347133.0, 352926.0, 357507.0, 363488.0, 369738.0, 377147.0, 383259.0, 389200.0, 395135.0, 402120.0, 409775.0, 418451.0, 428431.0, 440669.0, 452720.0, 463403.0, 472219.0, 481095.0, 489827.0, 495591.0, 501519.0, 506804.0, 514160.0, 521883.0, 529819.0, 537456.0, 544627.0, 553069.0, 562060.0, 571297.0, 580680.0, 587020.0, 593577.0, 599127.0, 604549.0, 609483.0, 613607.0, 618799.0, 622714.0, 623953.0, 625375.0, 623616.0, 623767.0, 622551.0, 622595.0, 622754.0, 622454.0, 621367.0, 619449.0, 616000.0, 612816.0, 606897.0, 600487.0, 592627.0, 585185.0, 579571.0, 572521.0, 566218.0, 556720.0, 546344.0, 532396.0, 518122.0, 504959.0, 493013.0, 482461.0, 474978.0, 467541.0, 459510.0, 448828.0, 441206.0, 437067.0, 434109.0, 431096.0, 428102.0, 424447.0, 421928.0, 420272.0, 420375.0, 421042.0, 423919.0, 428692.0, 430618.0, 430106.0, 430370.0, 433303.0, 437025.0, 436271.0, 433699.0, 429021.0, 424927.0, 420849.0, 417150.0, 415834.0, 415123.0, 415521.0, 413770.0, 412010.0, 407122.0, 405924.0, 404739.0, 402769.0, 398387.0, 394310.0, 393865.0, 394088.0, 393472.0, 392738.0, 392065.0, 392575.0, 393650.0, 395315.0, 397895.0, 399923.0, 402304.0, 405951.0, 410288.0, 416694.0, 422990.0, 432145.0, 441117.0, 450911.0, 458971.0, 467382.0, 474713.0, 482426.0, 488908.0, 494059.0, 499759.0, 504786.0, 510433.0, 512895.0, 513864.0, 513157.0, 513181.0, 513322.0, 514163.0, 512731.0, 512275.0, 512758.0, 515924.0, 519680.0, 524244.0, 529151.0, 532990.0, 534392.0, 536291.0, 538242.0, 539428.0, 540832.0, 542837.0, 547120.0, 550462.0, 556245.0, 560132.0, 564378.0, 566151.0, 569359.0, 572471.0, 575357.0, 576102.0, 577719.0, 579965.0, 584494.0, 588202.0, 591013.0, 595439.0, 598479.0, 601816.0, 603376.0, 606536.0, 610282.0, 611827.0, 613517.0, 615705.0, 620447.0, 626340.0, 631491.0, 636372.0, 641514.0, 646508.0, 651028.0, 653563.0, 656411.0, 656840.0, 657712.0, 658160.0, 661397.0, 663239.0, 662731.0, 661577.0, 659441.0, 658107.0, 657679.0, 658641.0, 659652.0, 658723.0, 659443.0, 662139.0, 666413.0, 668413.0, 670212.0, 673170.0, 679229.0, 686147.0, 691238.0, 689341.0, 686459.0, 688189.0, 697304.0, 707853.0, 717755.0, 725198.0, 731494.0, 736598.0, 744041.0, 751863.0, 762839.0, 778409.0, 798094.0, 818866.0, 832227.0, 841282.0, 846012.0, 853172.0, 862413.0, 873128.0, 885390.0, 902775.0, 921916, 938423, 939761, 936625, 922542, 912931.0, 903359]\n"
     ]
    }
   ],
   "source": [
    "data = data[3:]\n",
    "print(data)"
   ]
  },
  {
   "cell_type": "code",
   "execution_count": 7,
   "metadata": {},
   "outputs": [],
   "source": [
    "for i in range(48,196):\n",
    "    past4y.append(data[i]/data[i-48])\n",
    "    next4y.append(data[i+48]/data[i])"
   ]
  },
  {
   "cell_type": "code",
   "execution_count": 8,
   "metadata": {},
   "outputs": [
    {
     "data": {
      "text/plain": [
       "<matplotlib.collections.PathCollection at 0x1bcdfb50>"
      ]
     },
     "execution_count": 8,
     "metadata": {},
     "output_type": "execute_result"
    },
    {
     "data": {
      "image/png": "[encoded data removed]",
      "text/plain": [
       "<Figure size 432x288 with 1 Axes>"
      ]
     },
     "metadata": {
      "needs_background": "light"
     },
     "output_type": "display_data"
    }
   ],
   "source": [
    "plt.scatter(past4y,next4y)"
   ]
  },
  {
   "cell_type": "code",
   "execution_count": 9,
   "metadata": {},
   "outputs": [
    {
     "data": {
      "text/plain": [
       "-1.1678592855929186"
      ]
     },
     "execution_count": 9,
     "metadata": {},
     "output_type": "execute_result"
    }
   ],
   "source": [
    "r2_score(past4y,next4y)"
   ]
  },
  {
   "cell_type": "code",
   "execution_count": null,
   "metadata": {},
   "outputs": [],
   "source": []
  }
 ],
 "metadata": {
  "kernelspec": {
   "display_name": "Python 3",
   "language": "python",
   "name": "python3"
  },
  "language_info": {
   "codemirror_mode": {
    "name": "ipython",
    "version": 3
   },
   "file_extension": ".py",
   "mimetype": "text/x-python",
   "name": "python",
   "nbconvert_exporter": "python",
   "pygments_lexer": "ipython3",
   "version": "3.8.5"
  }
 },
 "nbformat": 4,
 "nbformat_minor": 4
}
