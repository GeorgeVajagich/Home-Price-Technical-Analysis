{
 "cells": [
  {
   "cell_type": "code",
   "execution_count": 1,
   "metadata": {},
   "outputs": [],
   "source": [
    "import matplotlib.pyplot as plt\n",
    "import numpy as np\n",
    "import csv\n",
    "import pandas as pd\n",
    "import scipy.stats as stats\n",
    "from sklearn.model_selection import train_test_split\n",
    "from sklearn.neural_network import MLPRegressor\n",
    "from sklearn.datasets import make_regression\n",
    "from sklearn.metrics import r2_score"
   ]
  },
  {
   "cell_type": "code",
   "execution_count": 2,
   "metadata": {},
   "outputs": [],
   "source": [
    "# reading data\n",
    "# data is Zillow Home Value Index since 2000 for all the Metropolitan Areas in the US\n",
    "df = pd.read_csv(\"Metro_zhvi_uc_sfrcondo_tier_0.33_0.67_sm_sa_month_11.29.2020_.csv\") "
   ]
  },
  {
   "cell_type": "code",
   "execution_count": 3,
   "metadata": {},
   "outputs": [],
   "source": [
    "# narrowing data data to the 100 most populous metropolitan areas in the US\n",
    "for i in range(101,892):\n",
    "    df=df.drop([i])"
   ]
  },
  {
   "cell_type": "code",
   "execution_count": 4,
   "metadata": {},
   "outputs": [],
   "source": [
    "# for each top 100 Metro Area calculating price change over the past year and for the next year for each month from 2004 to 2016\n",
    "past1y=[]\n",
    "next1y=[]\n",
    "\n",
    "for a in range(0,100):\n",
    "    data=(df.loc[[a]])\n",
    "    data=data.values.tolist()\n",
    "    data=data[0]\n",
    "    data = data[3:]\n",
    "    for i in range(48,196):\n",
    "        past1y.append((data[i]/data[i-12]-1)*100)\n",
    "        next1y.append((data[i+12]/data[i]-1)*100)"
   ]
  },
  {
   "cell_type": "code",
   "execution_count": 5,
   "metadata": {},
   "outputs": [],
   "source": [
    "# for each top 100 Metro Area calculating price change over the past 4 years and for the next 4 years for each month from 2004 to 2016\n",
    "past4y=[]\n",
    "next4y=[]\n",
    "\n",
    "for a in range(0,100):\n",
    "    data=(df.loc[[a]])\n",
    "    data=data.values.tolist()\n",
    "    data=data[0]\n",
    "    data = data[3:]\n",
    "    for i in range(48,196):\n",
    "        past4y.append((data[i]/data[i-48]-1)*100)\n",
    "        next4y.append((data[i+48]/data[i]-1)*100)"
   ]
  },
  {
   "cell_type": "code",
   "execution_count": 6,
   "metadata": {},
   "outputs": [],
   "source": [
    "# converting the lists into dataframes and combining all the dataframes together then dropping any rows with missing values\n",
    "df1y=pd.DataFrame(past1y)\n",
    "df4y=pd.DataFrame(past4y)\n",
    "nxt4y=pd.DataFrame(next4y)\n",
    "\n",
    "result = pd.concat([df1y,df4y,nxt4y],axis=1)\n",
    "result=result.dropna()\n",
    "result.columns = ['p1', 'p4','n4']"
   ]
  },
  {
   "cell_type": "code",
   "execution_count": 9,
   "metadata": {},
   "outputs": [],
   "source": [
    "x=result.drop([\"n4\"],axis=1).values\n",
    "y=result[\"n4\"].values"
   ]
  },
  {
   "cell_type": "code",
   "execution_count": 10,
   "metadata": {},
   "outputs": [],
   "source": [
    "x_train,x_test,y_train,y_test,=train_test_split(x,y,test_size=0.2,random_state=0)"
   ]
  },
  {
   "cell_type": "code",
   "execution_count": 11,
   "metadata": {},
   "outputs": [],
   "source": [
    "regr = MLPRegressor(random_state=1, max_iter=500).fit(x_train, y_train)"
   ]
  },
  {
   "cell_type": "code",
   "execution_count": 12,
   "metadata": {},
   "outputs": [
    {
     "name": "stdout",
     "output_type": "stream",
     "text": [
      "[ 10.1152994  -29.57244464 -10.7570595  ...   4.20361698   1.0772063\n",
      "  13.71361804]\n"
     ]
    }
   ],
   "source": [
    "y_pred=regr.predict(x_test)\n",
    "print(y_pred)"
   ]
  },
  {
   "cell_type": "code",
   "execution_count": 13,
   "metadata": {},
   "outputs": [
    {
     "data": {
      "text/plain": [
       "0.633425639240101"
      ]
     },
     "execution_count": 13,
     "metadata": {},
     "output_type": "execute_result"
    }
   ],
   "source": [
    "# printing the r^2 of the correlation between the test data on the model's predictions\n",
    "from sklearn.metrics import r2_score\n",
    "r2_score(y_test,y_pred)"
   ]
  },
  {
   "cell_type": "code",
   "execution_count": 14,
   "metadata": {},
   "outputs": [
    {
     "data": {
      "text/plain": [
       "Text(0, 0.5, 'predicted')"
      ]
     },
     "execution_count": 14,
     "metadata": {},
     "output_type": "execute_result"
    },
    {
     "data": {
      "image/png": "[encoded data removed]",
      "text/plain": [
       "<Figure size 432x288 with 1 Axes>"
      ]
     },
     "metadata": {
      "needs_background": "light"
     },
     "output_type": "display_data"
    }
   ],
   "source": [
    "# plotting the test data vs the model's predctions made about it\n",
    "plt.scatter(y_test,y_pred,s=1)\n",
    "plt.xlim(-80, 80)\n",
    "plt.ylim(-80, 80)\n",
    "plt.xlabel(\"actual\")\n",
    "plt.ylabel(\"predicted\")"
   ]
  },
  {
   "cell_type": "code",
   "execution_count": 15,
   "metadata": {},
   "outputs": [
    {
     "name": "stdout",
     "output_type": "stream",
     "text": [
      "          RegionName RegionType StateName  1/31/2000  2/29/2000  3/31/2000  \\\n",
      "0       New York, NY        msa        NY   223829.0   225167.0   226370.0   \n",
      "1    Los Angeles, CA        msa        CA   229755.0   230555.0   231780.0   \n",
      "2        Chicago, IL        msa        IL   168751.0   169149.0   169664.0   \n",
      "3         Dallas, TX        msa        TX   129057.0   129160.0   129246.0   \n",
      "4        Houston, TX        msa        TX   126120.0   126198.0   126079.0   \n",
      "..               ...        ...       ...        ...        ...        ...   \n",
      "96    Harrisburg, PA        msa        PA   116214.0   116612.0   116921.0   \n",
      "97       Spokane, WA        msa        WA   128480.0   128462.0   128477.0   \n",
      "98   Chattanooga, TN        msa        TN   105549.0   105845.0   106018.0   \n",
      "99      Scranton, PA        msa        PA    80281.0    80798.0    81008.0   \n",
      "100      Modesto, CA        msa        CA   147064.0   147417.0   148011.0   \n",
      "\n",
      "     4/30/2000  5/31/2000  6/30/2000  7/31/2000  ...  1/31/2022  2/28/2022  \\\n",
      "0     228739.0   230944.0   233292.0   235759.0  ...   578616.0   583239.0   \n",
      "1     234110.0   236608.0   238967.0   241382.0  ...   873128.0   885390.0   \n",
      "2     170696.0   171789.0   172872.0   174070.0  ...   291994.0   294542.0   \n",
      "3     129456.0   129676.0   129859.0   130056.0  ...   348182.0   356594.0   \n",
      "4     126198.0   126205.0   126407.0   126536.0  ...   283863.0   288169.0   \n",
      "..         ...        ...        ...        ...  ...        ...        ...   \n",
      "96    117533.0   117830.0   118026.0   118133.0  ...   242647.0   246010.0   \n",
      "97    128440.0   127937.0   127408.0   126923.0  ...   413208.0   422164.0   \n",
      "98    106484.0   106902.0   107358.0   107695.0  ...   247852.0   253338.0   \n",
      "99     81304.0    81224.0    81340.0    81478.0  ...   163968.0   165588.0   \n",
      "100   147745.0   147578.0   147333.0   148564.0  ...   438738.0   446327.0   \n",
      "\n",
      "     3/31/2022  4/30/2022  5/31/2022  6/30/2022  7/31/2022  8/31/2022  \\\n",
      "0     589646.0     596752     604240     610227     614532     616809   \n",
      "1     902775.0     921916     938423     939761     936625     922542   \n",
      "2     297812.0     301254     305188     308150     309985     310305   \n",
      "3     364599.0     373983     382587     390056     392235     391300   \n",
      "4     293517.0     299510     305080     309261     311856     313097   \n",
      "..         ...        ...        ...        ...        ...        ...   \n",
      "96    248804.0     251307     253346     255599     257377     259250   \n",
      "97    430812.0     439494     443729     447082     445532     442036   \n",
      "98    258913.0     264513     269315     273780     276727     279014   \n",
      "99    167896.0     170330     172239     174272     176125     178296   \n",
      "100   454165.0     462861     465911     467884     468509     466470   \n",
      "\n",
      "     9/30/2022  10/31/2022  \n",
      "0     617791.0      618270  \n",
      "1     912931.0      903359  \n",
      "2     310604.0      311225  \n",
      "3     389607.0      389737  \n",
      "4     313460.0      314051  \n",
      "..         ...         ...  \n",
      "96    260984.0      263391  \n",
      "97    438247.0      434931  \n",
      "98    281072.0      282414  \n",
      "99    179761.0      180888  \n",
      "100   462632.0      455118  \n",
      "\n",
      "[101 rows x 277 columns]\n"
     ]
    }
   ],
   "source": [
    "print(df)"
   ]
  },
  {
   "cell_type": "code",
   "execution_count": 29,
   "metadata": {},
   "outputs": [
    {
     "name": "stdout",
     "output_type": "stream",
     "text": [
      "Sacramento, CA\n",
      "Next 4 Years projected\n"
     ]
    },
    {
     "data": {
      "text/plain": [
       "array([0.68636512])"
      ]
     },
     "execution_count": 29,
     "metadata": {},
     "output_type": "execute_result"
    }
   ],
   "source": [
    "# Sacremento is expectated to have its Zillow Home Value Index increase by 0.69% over the next 4 years\n",
    "print(df[\"RegionName\"][25])\n",
    "Sacramento=(df.loc[25])\n",
    "p1=((Sacramento[276]/Sacramento[264]-1)*100)\n",
    "p4=((Sacramento[276]/Sacramento[228]-1)*100)\n",
    "\n",
    "print(\"Next 4 Years projected\")\n",
    "regr.predict([[p1,p4]])"
   ]
  },
  {
   "cell_type": "code",
   "execution_count": 30,
   "metadata": {},
   "outputs": [
    {
     "name": "stdout",
     "output_type": "stream",
     "text": [
      "Kansas City, MO\n",
      "Next 4 Years projected\n"
     ]
    },
    {
     "data": {
      "text/plain": [
       "array([9.48691876])"
      ]
     },
     "execution_count": 30,
     "metadata": {},
     "output_type": "execute_result"
    }
   ],
   "source": [
    "# Kansas City is expectated to have its Zillow Home Value Index increase by 9.49% over the next 4 years\n",
    "print(df[\"RegionName\"][30])\n",
    "KansasCity=(df.loc[30])\n",
    "p1=((KansasCity[276]/KansasCity[264]-1)*100)\n",
    "p4=((KansasCity[276]/KansasCity[228]-1)*100)\n",
    "\n",
    "print(\"Next 4 Years projected\")\n",
    "regr.predict([[p1,p4]])"
   ]
  },
  {
   "cell_type": "code",
   "execution_count": 31,
   "metadata": {},
   "outputs": [
    {
     "name": "stdout",
     "output_type": "stream",
     "text": [
      "Nashville, TN\n",
      "Next 4 Years projected\n"
     ]
    },
    {
     "data": {
      "text/plain": [
       "array([-11.42261499])"
      ]
     },
     "execution_count": 31,
     "metadata": {},
     "output_type": "execute_result"
    }
   ],
   "source": [
    "# Nashville is expectated to have its Zillow Home Value Index decrease by 11.42% over the next 4 years\n",
    "print(df[\"RegionName\"][35])\n",
    "Nashville=(df.loc[35])\n",
    "p1=((Nashville[276]/Nashville[264]-1)*100)\n",
    "p4=((Nashville[276]/Nashville[228]-1)*100)\n",
    "\n",
    "print(\"Next 4 Years projected\")\n",
    "regr.predict([[p1,p4]])"
   ]
  },
  {
   "cell_type": "code",
   "execution_count": 37,
   "metadata": {},
   "outputs": [
    {
     "name": "stdout",
     "output_type": "stream",
     "text": [
      "Boise City, ID\n",
      "Next 4 Years projected\n"
     ]
    },
    {
     "data": {
      "text/plain": [
       "array([-51.84461694])"
      ]
     },
     "execution_count": 37,
     "metadata": {},
     "output_type": "execute_result"
    }
   ],
   "source": [
    "# Boise is expectated to have its Zillow Home Value Index decrease by 51.84% over the next 4 years\n",
    "print(df[\"RegionName\"][76])\n",
    "Boise=(df.loc[76])\n",
    "p1=((Boise[276]/Boise[264]-1)*100)\n",
    "p4=((Boise[276]/Boise[228]-1)*100)\n",
    "\n",
    "print(\"Next 4 Years projected\")\n",
    "regr.predict([[p1,p4]])"
   ]
  },
  {
   "cell_type": "code",
   "execution_count": null,
   "metadata": {},
   "outputs": [],
   "source": []
  }
 ],
 "metadata": {
  "kernelspec": {
   "display_name": "Python 3",
   "language": "python",
   "name": "python3"
  },
  "language_info": {
   "codemirror_mode": {
    "name": "ipython",
    "version": 3
   },
   "file_extension": ".py",
   "mimetype": "text/x-python",
   "name": "python",
   "nbconvert_exporter": "python",
   "pygments_lexer": "ipython3",
   "version": "3.8.5"
  }
 },
 "nbformat": 4,
 "nbformat_minor": 4
}
